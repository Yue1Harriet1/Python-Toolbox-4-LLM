{
  "cells": [
    {
      "cell_type": "markdown",
      "metadata": {
        "id": "view-in-github",
        "colab_type": "text"
      },
      "source": [
        "<a href=\"https://colab.research.google.com/github/Yue1Harriet1/Python-Toolbox-4-LLM/blob/master/work_in_progress/Talk_Proposal_Make_Streamlit_Concurrent_with_a_Scheduler.ipynb\" target=\"_parent\"><img src=\"https://colab.research.google.com/assets/colab-badge.svg\" alt=\"Open In Colab\"/></a>"
      ]
    },
    {
      "cell_type": "markdown",
      "metadata": {
        "id": "Ho1m3bZm1nJJ"
      },
      "source": [
        "# Achieving Concurrency in Streamlit with a RQ scheduler, Building Responsive Data Applications"
      ]
    },
    {
      "cell_type": "markdown",
      "metadata": {
        "id": "cYJW7von1nJK"
      },
      "source": [
        "## Description\n",
        "\n",
        "With increasing adoption of Streamlit to create interactive data applications in the usage of generative AI technologies, a challenge of maintaining responsiveness under heavy or concurrent user interctions has emerged as applications grow in complexity, sometimes with a long-runing background job. This is where integrating task queueing systems like Redis Queue (RQ) into Streamlit applications can come in handy.\n",
        "\n",
        "In this talk, we will explore how we can enable this integration between RQ and Streamlit to achieve concurrency, improve user experiences and effectively manage long-running tasks.\n",
        "\n",
        "We will begin by discussing the limitations of Streamlit's default threading model when faced with CPU-bound or long-running operations. And then we will uncover how RQ, a light-weight, Redis-backed task queue for Python that offers a simple way to offload work out of Streamlit's main thread of execution can help to overcome these limitations.\n"
      ]
    },
    {
      "cell_type": "markdown",
      "metadata": {
        "id": "TwOx5Dsh1nJP"
      },
      "source": [
        "##Audience\n",
        "\n",
        "This task is intended for Python developers, data scientists and engineers who are looking to improve concurrency and responsiveness in building their Streamlit data applications, such as those with long-running background AI tasks. Basic knowledge of Redis and task queues is beneficial but not required."
      ]
    },
    {
      "cell_type": "markdown",
      "metadata": {
        "id": "Q0HJrnur1nJR"
      },
      "source": [
        "##Outline\n",
        "\n",
        "Our journey will include:\n",
        "\n",
        "1. An overview of Streamlit's architecture and where concurrency challenge typically arise. (3 mins)\n",
        "\n",
        "2. A primer on task queues and their importance in modern web applications. (3 mins)\n",
        "\n",
        "3. A detailed examination of RQ, including its setup from a hands-on perspective (5 mins)\n",
        "\n",
        "4. Step-by-step guidance on how to integrate RQ task queue into a Streamlit app, and eventually into a new Python package, including but not limited to: (10 mins)\n",
        "\n",
        "- Initiating RQ workers\n",
        "- Creating job functions\n",
        "- Enqueuing tasks\n",
        "- How the Streamlit front-end initiates the above workflows and receives returned results\n",
        "\n",
        "5. Demonstrations of a real-world example where RQ effectively manages concurrent processing in Streamlit apps using the newly written Python library. (5 mins)\n",
        "\n",
        "To solidify our understanding, we will walk through a sample Streamlit application enhanced by RQ, and a new Python library written for that purpose to streamline and simplify the process.\n",
        "\n",
        "By the end of this talk, attendees will have a clear blueprint for making their Streamlit applications concurrent using RQ. They will leave equipped with the knowledge of the newly written Python library, how to build responsive and scalable data applications that can gracefully handle the demands of multiple users and complex operations.\n",
        "\n",
        "Takeaways:\n",
        "How the newly written Python library bakes the following ingredients into building a seamless Streamlit user experience that:\n",
        "\n",
        "- overcomes the concurrency limitations in Streamlit with RQ.\n",
        "- RQ is integrated into a Steamlit app where the front-end communicates with RQ workers fluently.\n",
        "- long-running background tasks are handled in the best practices for a seamless user experience.\n",
        "- adopts strategies for concurrent applications to be built in a scalable and secured fashion with Streamlit and RQ.\n",
        "\n",
        "Join us to unlock the full potential of your Streamlit applications by harnessing the power of RQ for responsive and concurrent data processing!"
      ]
    },
    {
      "cell_type": "markdown",
      "source": [
        "## Notes\n",
        "\n",
        "I have built Python applications in my day job including but not limited to: education resource optimization for a major public research university, topic modeling for public opinion survey to facilitate better public policy making, risk detection in disease onset, record linkage to deduplicate fuzzy records in financial databases. I taught AI courses on a part-time basis in a public colleage post-graduate diploma program to better equip international students for North American analytics job markets. As a volunteer enthusiast to build up a local Python technology community, I also advocate for Python technologies together with AI modeling in founding the Public Data Technology Forum meetup group and running regular workshops since 2014, while running its corresponding YouTube tech talks channel too:\n",
        "\n",
        "\n",
        "    Public Data Townhall: https://www.youtube.com/channel/UCi6e2FiTbDrRdh90sPdCMXQ\n"
      ],
      "metadata": {
        "id": "jpkrabp5CPil"
      }
    }
  ],
  "metadata": {
    "kernelspec": {
      "display_name": "Python 3",
      "language": "python",
      "name": "python3"
    },
    "language_info": {
      "codemirror_mode": {
        "name": "ipython",
        "version": 3
      },
      "file_extension": ".py",
      "mimetype": "text/x-python",
      "name": "python",
      "nbconvert_exporter": "python",
      "pygments_lexer": "ipython3",
      "version": "3.5.2"
    },
    "colab": {
      "provenance": [],
      "include_colab_link": true
    }
  },
  "nbformat": 4,
  "nbformat_minor": 0
}